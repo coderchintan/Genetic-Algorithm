{
 "cells": [
  {
   "cell_type": "code",
   "execution_count": 3,
   "metadata": {},
   "outputs": [
    {
     "ename": "ImportError",
     "evalue": "cannot import name Point",
     "output_type": "error",
     "traceback": [
      "\u001b[0;31m---------------------------------------------------------------------------\u001b[0m",
      "\u001b[0;31mImportError\u001b[0m                               Traceback (most recent call last)",
      "\u001b[0;32m<ipython-input-3-bb399ab76164>\u001b[0m in \u001b[0;36m<module>\u001b[0;34m()\u001b[0m\n\u001b[1;32m     10\u001b[0m \u001b[0;32mfrom\u001b[0m \u001b[0mmatplotlib\u001b[0m \u001b[0;32mimport\u001b[0m \u001b[0mpyplot\u001b[0m \u001b[0;32mas\u001b[0m \u001b[0mplt\u001b[0m\u001b[0;34m\u001b[0m\u001b[0m\n\u001b[1;32m     11\u001b[0m \u001b[0;34m\u001b[0m\u001b[0m\n\u001b[0;32m---> 12\u001b[0;31m \u001b[0;32mfrom\u001b[0m \u001b[0mpoint\u001b[0m \u001b[0;32mimport\u001b[0m \u001b[0mPoint\u001b[0m\u001b[0;34m\u001b[0m\u001b[0m\n\u001b[0m\u001b[1;32m     13\u001b[0m \u001b[0;32mfrom\u001b[0m \u001b[0mmatplotlib\u001b[0m \u001b[0;32mimport\u001b[0m \u001b[0mpyplot\u001b[0m \u001b[0;32mas\u001b[0m \u001b[0mplt\u001b[0m\u001b[0;34m\u001b[0m\u001b[0m\n\u001b[1;32m     14\u001b[0m \u001b[0;32mimport\u001b[0m \u001b[0mpoint\u001b[0m\u001b[0;34m\u001b[0m\u001b[0m\n",
      "\u001b[0;31mImportError\u001b[0m: cannot import name Point"
     ]
    }
   ],
   "source": [
    "# helpers/point.py\n",
    "\n",
    "import numpy as np\n",
    "import scipy as sp\n",
    "\n",
    "# helpers/population.py\n",
    "\n",
    "import copy\n",
    "import numpy as np\n",
    "from matplotlib import pyplot as plt\n",
    "\n",
    "from point import Point\n",
    "from matplotlib import pyplot as plt\n",
    "import point"
   ]
  },
  {
   "cell_type": "code",
   "execution_count": 11,
   "metadata": {},
   "outputs": [
    {
     "name": "stdout",
     "output_type": "stream",
     "text": [
      "_Feature((2, 5, 0, 'alpha', 1), (3, 0, 0, 'alpha', 0), 16384)\n"
     ]
    }
   ],
   "source": [
    "print point.absolute_import"
   ]
  },
  {
   "cell_type": "code",
   "execution_count": 5,
   "metadata": {},
   "outputs": [],
   "source": [
    "\n",
    "\n",
    "class Point:\n",
    "    def __init__(self, dim=2, upper_limit=10, lower_limit=-10, objective=None):\n",
    "        self.dim = dim\n",
    "        self.coords = np.zeros((self.dim,))\n",
    "        self.z = None\n",
    "        self.range_upper_limit = upper_limit\n",
    "        self.range_lower_limit = lower_limit\n",
    "        self.objective = objective\n",
    "        self.evaluate_point()\n",
    "\n",
    "    def generate_random_point(self):\n",
    "        self.coords = np.random.uniform(self.range_lower_limit, self.range_upper_limit, (self.dim,))\n",
    "        self.evaluate_point()\n",
    "\n",
    "    def evaluate_point(self):\n",
    "        # self.z = evaluate(self.coords)\n",
    "        self.z = self.objective.evaluate(self.coords)"
   ]
  },
  {
   "cell_type": "code",
   "execution_count": null,
   "metadata": {},
   "outputs": [],
   "source": [
    "\n",
    "\n",
    "class Population:\n",
    "    def __init__(self, dim=2, num_points=50, upper_limit=10, lower_limit=-10, init_generate=True, objective=None):\n",
    "        self.points = []\n",
    "        self.num_points = num_points\n",
    "        self.init_generate = init_generate\n",
    "        self.dim = dim\n",
    "        self.range_upper_limit = upper_limit\n",
    "        self.range_lower_limit = lower_limit\n",
    "        self.objective = objective\n",
    "        # If initial generation parameter is true, then generate collection\n",
    "        if self.init_generate == True:\n",
    "            for ix in xrange(num_points):\n",
    "                new_point = Point(dim=dim, upper_limit=self.range_upper_limit,\n",
    "                                  lower_limit=self.range_lower_limit, objective=self.objective)\n",
    "                new_point.generate_random_point()\n",
    "                self.points.append(new_point)\n",
    "\n",
    "    def get_average_objective(self):\n",
    "        avg = 0.0\n",
    "\n",
    "        for px in self.points:\n",
    "            avg += px.z\n",
    "        avg = avg/float(self.num_points)\n",
    "        return avg"
   ]
  }
 ],
 "metadata": {
  "kernelspec": {
   "display_name": "Python 2",
   "language": "python",
   "name": "python2"
  },
  "language_info": {
   "codemirror_mode": {
    "name": "ipython",
    "version": 2
   },
   "file_extension": ".py",
   "mimetype": "text/x-python",
   "name": "python",
   "nbconvert_exporter": "python",
   "pygments_lexer": "ipython2",
   "version": "2.7.12"
  }
 },
 "nbformat": 4,
 "nbformat_minor": 2
}
